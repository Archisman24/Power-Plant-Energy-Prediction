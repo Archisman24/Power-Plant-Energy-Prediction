{
 "cells": [
  {
   "attachments": {},
   "cell_type": "markdown",
   "metadata": {},
   "source": [
    "###\n",
    "                                                    POWER PLANT ENERGY PREDICTION"
   ]
  },
  {
   "attachments": {},
   "cell_type": "markdown",
   "metadata": {},
   "source": [
    "- Importing the Libraries:"
   ]
  },
  {
   "cell_type": "code",
   "execution_count": 4,
   "metadata": {},
   "outputs": [],
   "source": [
    "import numpy as np\n",
    "import pandas as pd\n",
    "import tensorflow as tf"
   ]
  },
  {
   "attachments": {},
   "cell_type": "markdown",
   "metadata": {},
   "source": [
    "### Data Preprocessing:"
   ]
  },
  {
   "attachments": {},
   "cell_type": "markdown",
   "metadata": {},
   "source": [
    "- Importing the dataset:"
   ]
  },
  {
   "cell_type": "code",
   "execution_count": 5,
   "metadata": {},
   "outputs": [],
   "source": [
    "dataset = pd.read_excel('Folds5x2_pp.xlsx')\n",
    "X = dataset.iloc[:, :-1].values # Creating a matrix of features\n",
    "y = dataset.iloc[:, -1].values  # Creating the dependent variable vector"
   ]
  },
  {
   "attachments": {},
   "cell_type": "markdown",
   "metadata": {},
   "source": [
    "- Splitting the dataset into Training set and Test set:"
   ]
  },
  {
   "cell_type": "code",
   "execution_count": 6,
   "metadata": {},
   "outputs": [],
   "source": [
    "from sklearn.model_selection import train_test_split\n",
    "X_train, X_test, y_train, y_test = train_test_split(X, y, test_size = 0.2, random_state = 0)"
   ]
  },
  {
   "attachments": {},
   "cell_type": "markdown",
   "metadata": {},
   "source": [
    "### Building the ANN model:"
   ]
  },
  {
   "attachments": {},
   "cell_type": "markdown",
   "metadata": {},
   "source": [
    "- Initialising the ANN:"
   ]
  },
  {
   "cell_type": "code",
   "execution_count": 7,
   "metadata": {},
   "outputs": [],
   "source": [
    "ann = tf.keras.Sequential()"
   ]
  },
  {
   "attachments": {},
   "cell_type": "markdown",
   "metadata": {},
   "source": [
    "- Adding the Input layer and the First Hidden layer:"
   ]
  },
  {
   "cell_type": "code",
   "execution_count": 8,
   "metadata": {},
   "outputs": [],
   "source": [
    "ann.add(tf.keras.layers.Dense(units = 6, activation = 'relu'))"
   ]
  },
  {
   "attachments": {},
   "cell_type": "markdown",
   "metadata": {},
   "source": [
    "- Adding the second Hidden layer:"
   ]
  },
  {
   "cell_type": "code",
   "execution_count": 9,
   "metadata": {},
   "outputs": [],
   "source": [
    "ann.add(tf.keras.layers.Dense(units = 6, activation = 'relu'))"
   ]
  },
  {
   "attachments": {},
   "cell_type": "markdown",
   "metadata": {},
   "source": [
    "- Adding the Output layer:"
   ]
  },
  {
   "cell_type": "code",
   "execution_count": 10,
   "metadata": {},
   "outputs": [],
   "source": [
    "ann.add(tf.keras.layers.Dense(units = 1))"
   ]
  },
  {
   "attachments": {},
   "cell_type": "markdown",
   "metadata": {},
   "source": [
    "### Training the ANN:"
   ]
  },
  {
   "attachments": {},
   "cell_type": "markdown",
   "metadata": {},
   "source": [
    "- Compiling the ANN:"
   ]
  },
  {
   "cell_type": "code",
   "execution_count": 13,
   "metadata": {},
   "outputs": [],
   "source": [
    "ann.compile(optimizer = 'adam', loss = 'mean_squared_error')"
   ]
  },
  {
   "attachments": {},
   "cell_type": "markdown",
   "metadata": {},
   "source": [
    "- Training the ANN model on the Training set:"
   ]
  },
  {
   "cell_type": "code",
   "execution_count": 14,
   "metadata": {},
   "outputs": [
    {
     "name": "stdout",
     "output_type": "stream",
     "text": [
      "Epoch 1/100\n",
      "240/240 [==============================] - 3s 4ms/step - loss: 28.1912\n",
      "Epoch 2/100\n",
      "240/240 [==============================] - 1s 4ms/step - loss: 26.9455\n",
      "Epoch 3/100\n",
      "240/240 [==============================] - 1s 4ms/step - loss: 27.3703\n",
      "Epoch 4/100\n",
      "240/240 [==============================] - 1s 4ms/step - loss: 26.9235\n",
      "Epoch 5/100\n",
      "240/240 [==============================] - 1s 4ms/step - loss: 26.8832\n",
      "Epoch 6/100\n",
      "240/240 [==============================] - 1s 4ms/step - loss: 27.3408\n",
      "Epoch 7/100\n",
      "240/240 [==============================] - 1s 4ms/step - loss: 27.1054\n",
      "Epoch 8/100\n",
      "240/240 [==============================] - 1s 4ms/step - loss: 27.2555\n",
      "Epoch 9/100\n",
      "240/240 [==============================] - 1s 5ms/step - loss: 27.0396\n",
      "Epoch 10/100\n",
      "240/240 [==============================] - 1s 3ms/step - loss: 27.5148\n",
      "Epoch 11/100\n",
      "240/240 [==============================] - 1s 3ms/step - loss: 27.6260\n",
      "Epoch 12/100\n",
      "240/240 [==============================] - 1s 3ms/step - loss: 26.9914\n",
      "Epoch 13/100\n",
      "240/240 [==============================] - 1s 5ms/step - loss: 27.7999\n",
      "Epoch 14/100\n",
      "240/240 [==============================] - 1s 3ms/step - loss: 27.3920\n",
      "Epoch 15/100\n",
      "240/240 [==============================] - 1s 5ms/step - loss: 26.8673\n",
      "Epoch 16/100\n",
      "240/240 [==============================] - 1s 4ms/step - loss: 26.9671\n",
      "Epoch 17/100\n",
      "240/240 [==============================] - 1s 4ms/step - loss: 27.6062\n",
      "Epoch 18/100\n",
      "240/240 [==============================] - 1s 4ms/step - loss: 27.4071\n",
      "Epoch 19/100\n",
      "240/240 [==============================] - 1s 4ms/step - loss: 26.9826\n",
      "Epoch 20/100\n",
      "240/240 [==============================] - 1s 4ms/step - loss: 27.2272\n",
      "Epoch 21/100\n",
      "240/240 [==============================] - 1s 3ms/step - loss: 27.4186\n",
      "Epoch 22/100\n",
      "240/240 [==============================] - 1s 3ms/step - loss: 27.3907\n",
      "Epoch 23/100\n",
      "240/240 [==============================] - 1s 3ms/step - loss: 27.3604\n",
      "Epoch 24/100\n",
      "240/240 [==============================] - 1s 3ms/step - loss: 27.0003\n",
      "Epoch 25/100\n",
      "240/240 [==============================] - 1s 3ms/step - loss: 26.5586\n",
      "Epoch 26/100\n",
      "240/240 [==============================] - 1s 4ms/step - loss: 27.5748\n",
      "Epoch 27/100\n",
      "240/240 [==============================] - 1s 4ms/step - loss: 27.5296\n",
      "Epoch 28/100\n",
      "240/240 [==============================] - 1s 4ms/step - loss: 27.5398\n",
      "Epoch 29/100\n",
      "240/240 [==============================] - 1s 3ms/step - loss: 27.7541\n",
      "Epoch 30/100\n",
      "240/240 [==============================] - 1s 4ms/step - loss: 27.2062\n",
      "Epoch 31/100\n",
      "240/240 [==============================] - 1s 3ms/step - loss: 26.8563\n",
      "Epoch 32/100\n",
      "240/240 [==============================] - 1s 3ms/step - loss: 27.0481\n",
      "Epoch 33/100\n",
      "240/240 [==============================] - 1s 5ms/step - loss: 27.5996\n",
      "Epoch 34/100\n",
      "240/240 [==============================] - 1s 5ms/step - loss: 27.4385\n",
      "Epoch 35/100\n",
      "240/240 [==============================] - 1s 4ms/step - loss: 27.1516\n",
      "Epoch 36/100\n",
      "240/240 [==============================] - 1s 3ms/step - loss: 27.7638\n",
      "Epoch 37/100\n",
      "240/240 [==============================] - 1s 4ms/step - loss: 27.8853\n",
      "Epoch 38/100\n",
      "240/240 [==============================] - 1s 5ms/step - loss: 27.0859\n",
      "Epoch 39/100\n",
      "240/240 [==============================] - 1s 4ms/step - loss: 27.0614\n",
      "Epoch 40/100\n",
      "240/240 [==============================] - 1s 5ms/step - loss: 27.3711\n",
      "Epoch 41/100\n",
      "240/240 [==============================] - 1s 3ms/step - loss: 27.3863\n",
      "Epoch 42/100\n",
      "240/240 [==============================] - 1s 4ms/step - loss: 26.4781\n",
      "Epoch 43/100\n",
      "240/240 [==============================] - 1s 4ms/step - loss: 27.1251\n",
      "Epoch 44/100\n",
      "240/240 [==============================] - 1s 3ms/step - loss: 26.7513\n",
      "Epoch 45/100\n",
      "240/240 [==============================] - 1s 4ms/step - loss: 27.7136\n",
      "Epoch 46/100\n",
      "240/240 [==============================] - 1s 4ms/step - loss: 27.5865\n",
      "Epoch 47/100\n",
      "240/240 [==============================] - 1s 4ms/step - loss: 27.7447\n",
      "Epoch 48/100\n",
      "240/240 [==============================] - 1s 4ms/step - loss: 27.7066\n",
      "Epoch 49/100\n",
      "240/240 [==============================] - 1s 5ms/step - loss: 26.9104\n",
      "Epoch 50/100\n",
      "240/240 [==============================] - 1s 4ms/step - loss: 27.1601\n",
      "Epoch 51/100\n",
      "240/240 [==============================] - 1s 4ms/step - loss: 27.5684\n",
      "Epoch 52/100\n",
      "240/240 [==============================] - 1s 3ms/step - loss: 27.4090\n",
      "Epoch 53/100\n",
      "240/240 [==============================] - 1s 3ms/step - loss: 26.6992\n",
      "Epoch 54/100\n",
      "240/240 [==============================] - 1s 3ms/step - loss: 26.5694\n",
      "Epoch 55/100\n",
      "240/240 [==============================] - 1s 3ms/step - loss: 27.3600\n",
      "Epoch 56/100\n",
      "240/240 [==============================] - 1s 3ms/step - loss: 26.5059\n",
      "Epoch 57/100\n",
      "240/240 [==============================] - 1s 4ms/step - loss: 27.0858\n",
      "Epoch 58/100\n",
      "240/240 [==============================] - 1s 3ms/step - loss: 26.7282\n",
      "Epoch 59/100\n",
      "240/240 [==============================] - 1s 3ms/step - loss: 26.4802\n",
      "Epoch 60/100\n",
      "240/240 [==============================] - 1s 3ms/step - loss: 26.7768\n",
      "Epoch 61/100\n",
      "240/240 [==============================] - 1s 3ms/step - loss: 25.5636\n",
      "Epoch 62/100\n",
      "240/240 [==============================] - 1s 3ms/step - loss: 26.2659\n",
      "Epoch 63/100\n",
      "240/240 [==============================] - 1s 3ms/step - loss: 26.4538\n",
      "Epoch 64/100\n",
      "240/240 [==============================] - 1s 3ms/step - loss: 26.8564\n",
      "Epoch 65/100\n",
      "240/240 [==============================] - 1s 3ms/step - loss: 26.0298\n",
      "Epoch 66/100\n",
      "240/240 [==============================] - 1s 3ms/step - loss: 25.6453\n",
      "Epoch 67/100\n",
      "240/240 [==============================] - 1s 3ms/step - loss: 25.9102\n",
      "Epoch 68/100\n",
      "240/240 [==============================] - 2s 6ms/step - loss: 25.6213\n",
      "Epoch 69/100\n",
      "240/240 [==============================] - 1s 4ms/step - loss: 26.0915\n",
      "Epoch 70/100\n",
      "240/240 [==============================] - 1s 3ms/step - loss: 25.4236\n",
      "Epoch 71/100\n",
      "240/240 [==============================] - 1s 5ms/step - loss: 25.6297\n",
      "Epoch 72/100\n",
      "240/240 [==============================] - 1s 4ms/step - loss: 24.7844\n",
      "Epoch 73/100\n",
      "240/240 [==============================] - 1s 6ms/step - loss: 25.7500\n",
      "Epoch 74/100\n",
      "240/240 [==============================] - 1s 3ms/step - loss: 25.0477\n",
      "Epoch 75/100\n",
      "240/240 [==============================] - 1s 3ms/step - loss: 24.9794\n",
      "Epoch 76/100\n",
      "240/240 [==============================] - 1s 3ms/step - loss: 25.4741\n",
      "Epoch 77/100\n",
      "240/240 [==============================] - 1s 3ms/step - loss: 25.1486\n",
      "Epoch 78/100\n",
      "240/240 [==============================] - 1s 3ms/step - loss: 25.2350\n",
      "Epoch 79/100\n",
      "240/240 [==============================] - 1s 4ms/step - loss: 24.6911\n",
      "Epoch 80/100\n",
      "240/240 [==============================] - 1s 3ms/step - loss: 25.0047\n",
      "Epoch 81/100\n",
      "240/240 [==============================] - 1s 3ms/step - loss: 25.3338\n",
      "Epoch 82/100\n",
      "240/240 [==============================] - 1s 4ms/step - loss: 25.3152\n",
      "Epoch 83/100\n",
      "240/240 [==============================] - 1s 3ms/step - loss: 24.7059\n",
      "Epoch 84/100\n",
      "240/240 [==============================] - 1s 4ms/step - loss: 24.9618\n",
      "Epoch 85/100\n",
      "240/240 [==============================] - 1s 4ms/step - loss: 24.8124\n",
      "Epoch 86/100\n",
      "240/240 [==============================] - 1s 4ms/step - loss: 25.0576\n",
      "Epoch 87/100\n",
      "240/240 [==============================] - 1s 5ms/step - loss: 25.4380\n",
      "Epoch 88/100\n",
      "240/240 [==============================] - 1s 5ms/step - loss: 24.5747\n",
      "Epoch 89/100\n",
      "240/240 [==============================] - 1s 3ms/step - loss: 25.6302\n",
      "Epoch 90/100\n",
      "240/240 [==============================] - 1s 3ms/step - loss: 25.3454\n",
      "Epoch 91/100\n",
      "240/240 [==============================] - 1s 3ms/step - loss: 24.6661\n",
      "Epoch 92/100\n",
      "240/240 [==============================] - 1s 4ms/step - loss: 25.0095\n",
      "Epoch 93/100\n",
      "240/240 [==============================] - 1s 4ms/step - loss: 25.4957\n",
      "Epoch 94/100\n",
      "240/240 [==============================] - 1s 4ms/step - loss: 25.0820\n",
      "Epoch 95/100\n",
      "240/240 [==============================] - 1s 4ms/step - loss: 25.0977\n",
      "Epoch 96/100\n",
      "240/240 [==============================] - 1s 5ms/step - loss: 24.4343\n",
      "Epoch 97/100\n",
      "240/240 [==============================] - 1s 4ms/step - loss: 25.3410\n",
      "Epoch 98/100\n",
      "240/240 [==============================] - 1s 4ms/step - loss: 24.4387\n",
      "Epoch 99/100\n",
      "240/240 [==============================] - 1s 5ms/step - loss: 24.1503\n",
      "Epoch 100/100\n",
      "240/240 [==============================] - 1s 3ms/step - loss: 24.4510\n"
     ]
    },
    {
     "data": {
      "text/plain": [
       "<keras.callbacks.History at 0x25f91692970>"
      ]
     },
     "execution_count": 14,
     "metadata": {},
     "output_type": "execute_result"
    }
   ],
   "source": [
    "ann.fit(X_train, y_train, batch_size = 32, epochs = 100)"
   ]
  },
  {
   "attachments": {},
   "cell_type": "markdown",
   "metadata": {},
   "source": [
    "- Predicting the results of the Test set:"
   ]
  },
  {
   "cell_type": "code",
   "execution_count": 16,
   "metadata": {},
   "outputs": [
    {
     "name": "stdout",
     "output_type": "stream",
     "text": [
      "60/60 [==============================] - 0s 2ms/step\n",
      "[[431.33 431.23]\n",
      " [461.71 460.01]\n",
      " [467.55 461.14]\n",
      " ...\n",
      " [474.24 473.26]\n",
      " [440.68 438.  ]\n",
      " [457.5  463.28]]\n"
     ]
    }
   ],
   "source": [
    "y_pred = ann.predict(X_test)\n",
    "np.set_printoptions(precision=2)\n",
    "print(np.concatenate((y_pred.reshape(-1, 1), y_test.reshape(-1, 1) ), axis = 1))"
   ]
  }
 ],
 "metadata": {
  "kernelspec": {
   "display_name": "base",
   "language": "python",
   "name": "python3"
  },
  "language_info": {
   "codemirror_mode": {
    "name": "ipython",
    "version": 3
   },
   "file_extension": ".py",
   "mimetype": "text/x-python",
   "name": "python",
   "nbconvert_exporter": "python",
   "pygments_lexer": "ipython3",
   "version": "3.9.12"
  },
  "orig_nbformat": 4,
  "vscode": {
   "interpreter": {
    "hash": "fb4c61518361e332e00e883a4ecdc97d0848aba28b4e2f5990a544321a0785df"
   }
  }
 },
 "nbformat": 4,
 "nbformat_minor": 2
}
